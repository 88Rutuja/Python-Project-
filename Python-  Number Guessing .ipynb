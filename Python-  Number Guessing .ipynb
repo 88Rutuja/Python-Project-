{
 "cells": [
  {
   "cell_type": "markdown",
   "id": "fee7974b",
   "metadata": {},
   "source": [
    "#  Number Guessing "
   ]
  },
  {
   "cell_type": "markdown",
   "id": "ea032a22",
   "metadata": {},
   "source": [
    "# a fun game that generates a random number (in a certain range) that the user must guess after receiving hints. For each wrong guess the user makes, they receive extra hints but at the cost of worsening their final score."
   ]
  },
  {
   "cell_type": "code",
   "execution_count": 1,
   "id": "95df088c",
   "metadata": {},
   "outputs": [
    {
     "name": "stdout",
     "output_type": "stream",
     "text": [
      "Hello traveler! Welcome to the game of guesses!\n",
      "What is your name? Rutuja\n",
      "Hi, Rutuja, would you like to play the guessing game? (Enter Yes/No): yes\n",
      "There is currently no best score, it's yours for the taking!\n",
      "Pick a number between 1 and 10: 4\n",
      "It's higher\n",
      "Pick a number between 1 and 10: 8\n",
      "It's lower\n",
      "Pick a number between 1 and 10: 6\n",
      "It's higher\n",
      "Pick a number between 1 and 10: 3\n",
      "It's higher\n",
      "Pick a number between 1 and 10: 5\n",
      "It's higher\n",
      "Pick a number between 1 and 10: 1\n",
      "It's higher\n",
      "Pick a number between 1 and 10: 0\n",
      "Oh no!, that is not a valid value. Try again...\n",
      "Please guess a number within the given range\n",
      "Pick a number between 1 and 10: 4\n",
      "It's higher\n",
      "Pick a number between 1 and 10: 2\n",
      "It's higher\n",
      "Pick a number between 1 and 10: 34\n",
      "Oh no!, that is not a valid value. Try again...\n",
      "Please guess a number within the given range\n",
      "Pick a number between 1 and 10: 3\n",
      "It's higher\n",
      "Pick a number between 1 and 10: 7\n",
      "Nice! You got it!\n",
      "It took you 10 attempts\n",
      "Would you like to play again? (Enter Yes/No): 8\n",
      "That's cool, have a good one!\n"
     ]
    }
   ],
   "source": [
    "import random\n",
    "\n",
    "\n",
    "def show_score(attempts_list):\n",
    "    if not attempts_list:\n",
    "        print('There is currently no best score,'\n",
    "              ' it\\'s yours for the taking!')\n",
    "\n",
    "    else:\n",
    "        print(f'The current best score is'\n",
    "              f' {min(attempts_list)} attempts')\n",
    "\n",
    "\n",
    "def start_game():\n",
    "    attempts = 0\n",
    "    rand_num = random.randint(1, 10)\n",
    "    attempts_list = []\n",
    "\n",
    "    print('Hello traveler! Welcome to the game of guesses!')\n",
    "    player_name = input('What is your name? ')\n",
    "    wanna_play = input(\n",
    "        f'Hi, {player_name}, would you like to play '\n",
    "        f'the guessing game? (Enter Yes/No): ')\n",
    "\n",
    "    if wanna_play.lower() != 'yes':\n",
    "        print('That\\'s cool, Thanks!')\n",
    "        exit()\n",
    "    else:\n",
    "        show_score(attempts_list)\n",
    "\n",
    "    while wanna_play.lower() == 'yes':\n",
    "        try:\n",
    "            guess = int(input('Pick a number between 1 and 10: '))\n",
    "            if guess < 1 or guess > 10:\n",
    "                raise ValueError(\n",
    "                    'Please guess a number within the given range')\n",
    "\n",
    "            attempts += 1\n",
    "\n",
    "            if guess == rand_num:\n",
    "                attempts_list.append(attempts)\n",
    "                print('Nice! You got it!')\n",
    "                print(f'It took you {attempts} attempts')\n",
    "                wanna_play = input(\n",
    "                    'Would you like to play again? (Enter Yes/No): ')\n",
    "                if wanna_play.lower() != 'yes':\n",
    "                    print('That\\'s cool, have a good one!')\n",
    "                    break\n",
    "                else:\n",
    "                    attempts = 0\n",
    "                    rand_num = random.randint(1, 10)\n",
    "                    show_score(attempts_list)\n",
    "                    continue\n",
    "            else:\n",
    "                if guess > rand_num:\n",
    "                    print('It\\'s lower')\n",
    "                elif guess < rand_num:\n",
    "                    print('It\\'s higher')\n",
    "\n",
    "        except ValueError as err:\n",
    "            print('Oh no!, that is not a valid value. Try again...')\n",
    "            print(err)\n",
    "\n",
    "\n",
    "if __name__ == '__main__':\n",
    "    start_game()"
   ]
  },
  {
   "cell_type": "code",
   "execution_count": null,
   "id": "da2b2348",
   "metadata": {},
   "outputs": [],
   "source": []
  }
 ],
 "metadata": {
  "kernelspec": {
   "display_name": "Python 3 (ipykernel)",
   "language": "python",
   "name": "python3"
  },
  "language_info": {
   "codemirror_mode": {
    "name": "ipython",
    "version": 3
   },
   "file_extension": ".py",
   "mimetype": "text/x-python",
   "name": "python",
   "nbconvert_exporter": "python",
   "pygments_lexer": "ipython3",
   "version": "3.11.5"
  }
 },
 "nbformat": 4,
 "nbformat_minor": 5
}
