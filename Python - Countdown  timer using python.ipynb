{
 "cells": [
  {
   "cell_type": "code",
   "execution_count": null,
   "id": "323bee34",
   "metadata": {},
   "outputs": [],
   "source": [
    "# countdown timer using Python"
   ]
  },
  {
   "cell_type": "code",
   "execution_count": null,
   "id": "46568933",
   "metadata": {},
   "outputs": [],
   "source": [
    "#  sleep() function"
   ]
  },
  {
   "cell_type": "code",
   "execution_count": null,
   "id": "dcca7897",
   "metadata": {},
   "outputs": [],
   "source": [
    "# The code will take input from the user regarding the length of the countdown in seconds. After that, \n",
    "# a countdown will begin on the screen of the format ‘minutes: seconds’. We will use the time module here."
   ]
  },
  {
   "cell_type": "code",
   "execution_count": null,
   "id": "94d58036",
   "metadata": {},
   "outputs": [],
   "source": [
    "# import the time module \n",
    "import time \n",
    "  \n",
    "# define the countdown func. \n",
    "def countdown(t): \n",
    "    \n",
    "    while t: \n",
    "        mins, secs = divmod(t, 60) \n",
    "        timer = '{:02d}:{:02d}'.format(mins, secs) \n",
    "        print(timer, end=\"\\r\") \n",
    "        time.sleep(1) \n",
    "        t -= 1\n",
    "      \n",
    "    print('Lift Off!!')     # to signify the end of the countdown.\n",
    "  \n",
    "  \n",
    "# input time in seconds \n",
    "t = input(\"Enter the time in seconds: \") \n",
    "  \n",
    "# function call \n",
    "countdown(int(t)) "
   ]
  },
  {
   "cell_type": "code",
   "execution_count": null,
   "id": "b3067a9e",
   "metadata": {},
   "outputs": [],
   "source": []
  }
 ],
 "metadata": {
  "kernelspec": {
   "display_name": "Python 3 (ipykernel)",
   "language": "python",
   "name": "python3"
  },
  "language_info": {
   "codemirror_mode": {
    "name": "ipython",
    "version": 3
   },
   "file_extension": ".py",
   "mimetype": "text/x-python",
   "name": "python",
   "nbconvert_exporter": "python",
   "pygments_lexer": "ipython3",
   "version": "3.11.5"
  }
 },
 "nbformat": 4,
 "nbformat_minor": 5
}
