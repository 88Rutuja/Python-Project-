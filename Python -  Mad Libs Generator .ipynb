{
 "cells": [
  {
   "cell_type": "code",
   "execution_count": null,
   "id": "bc17edb9",
   "metadata": {},
   "outputs": [],
   "source": [
    "#  Mad Libs Generator "
   ]
  },
  {
   "cell_type": "code",
   "execution_count": null,
   "id": "dd7b4377",
   "metadata": {},
   "outputs": [],
   "source": [
    "##  how to use strings, variables, and concatenation, which are essential skills for all Python applications at all skill levels.\n",
    "\n",
    "The Mad Libs Generator gathers and manipulates user input data as an adjective, a pronoun, and a verb. The program takes this data and arranges it to build a story."
   ]
  },
  {
   "cell_type": "code",
   "execution_count": 1,
   "id": "f8d84acf",
   "metadata": {},
   "outputs": [
    {
     "name": "stdout",
     "output_type": "stream",
     "text": [
      "Choose a noun: r\n",
      "Choose a plural noun: e\n",
      "Choose a noun: w\n",
      "Name a place: a\n",
      "Choose an adjective (Describing word): rtyhh\n",
      "Choose a noun: d\n",
      "------------------------------------------\n",
      "Be kind to your r - footed e\n",
      "For a duck may be somebody's w ,\n",
      "Be kind to your e in a\n",
      "Where the weather is always rtyhh . \n",
      "\n",
      "You may think that is this the d ,\n",
      "Well it is.\n",
      "------------------------------------------\n"
     ]
    }
   ],
   "source": [
    "noun = input('Choose a noun: ')\n",
    "\n",
    "p_noun = input('Choose a plural noun: ')\n",
    "\n",
    "noun2 = input('Choose a noun: ')\n",
    "\n",
    "place = input('Name a place: ')\n",
    "\n",
    "adjective = input('Choose an adjective (Describing word): ')\n",
    "\n",
    "noun3 = input('Choose a noun: ')\n",
    "\n",
    "# Print a story from the user input\n",
    "\n",
    "print('------------------------------------------')\n",
    "\n",
    "print('Be kind to your', noun, '- footed', p_noun)\n",
    "\n",
    "print('For a duck may be somebody\\'s', noun2, ',')\n",
    "\n",
    "print('Be kind to your', p_noun, 'in', place)\n",
    "\n",
    "print('Where the weather is always', adjective, '. \\n')\n",
    "\n",
    "print('You may think that is this the', noun3, ',')\n",
    "\n",
    "print('Well it is.')\n",
    "\n",
    "print('------------------------------------------')\n"
   ]
  },
  {
   "cell_type": "code",
   "execution_count": null,
   "id": "0d0d2a50",
   "metadata": {},
   "outputs": [],
   "source": []
  }
 ],
 "metadata": {
  "kernelspec": {
   "display_name": "Python 3 (ipykernel)",
   "language": "python",
   "name": "python3"
  },
  "language_info": {
   "codemirror_mode": {
    "name": "ipython",
    "version": 3
   },
   "file_extension": ".py",
   "mimetype": "text/x-python",
   "name": "python",
   "nbconvert_exporter": "python",
   "pygments_lexer": "ipython3",
   "version": "3.11.5"
  }
 },
 "nbformat": 4,
 "nbformat_minor": 5
}
