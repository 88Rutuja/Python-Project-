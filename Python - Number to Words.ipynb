{
 "cells": [
  {
   "cell_type": "code",
   "execution_count": 3,
   "id": "09a1535a",
   "metadata": {},
   "outputs": [],
   "source": [
    "# Number to Words"
   ]
  },
  {
   "cell_type": "code",
   "execution_count": null,
   "id": "40f58c0f",
   "metadata": {},
   "outputs": [],
   "source": [
    "# This Python project idea converts an integer number provided via user input to its equivalent words. \n",
    "# This program is set up to support numbers with a maximum of 12 digits, but feel free to modify the program to handle larger numbers (hint: requires conditional statements and loops)."
   ]
  },
  {
   "cell_type": "code",
   "execution_count": 2,
   "id": "f02210b1",
   "metadata": {},
   "outputs": [
    {
     "name": "stdout",
     "output_type": "stream",
     "text": [
      "Enter any number: 3455678\n",
      "3455678 in words is: Three Million Four Hundred Fifty Five Thousand Six Hundred Seventy Eight  \n"
     ]
    }
   ],
   "source": [
    "ones = (\n",
    "   'Zero', 'One', 'Two', 'Three', 'Four',\n",
    "   'Five', 'Six', 'Seven', 'Eight', 'Nine'\n",
    "   )\n",
    "\n",
    "twos = (\n",
    "   'Ten', 'Eleven', 'Twelve', 'Thirteen', 'Fourteen',\n",
    "    'Fifteen', 'Sixteen', 'Seventeen', 'Eighteen', 'Nineteen'\n",
    "   )\n",
    "\n",
    "tens = (\n",
    "   'Twenty', 'Thirty', 'Forty', 'Fifty', 'Sixty',\n",
    "    'Seventy', 'Eighty', 'Ninety', 'Hundred'\n",
    "   )\n",
    "\n",
    "suffixes = (\n",
    "   '', 'Thousand', 'Million', 'Billion'\n",
    "   )\n",
    "\n",
    "def fetch_words(number, index):\n",
    "   if number == '0': return 'Zero'\n",
    "\n",
    "   number = number.zfill(3)\n",
    "   hundreds_digit = int(number[0])\n",
    "   tens_digit = int(number[1])\n",
    "   ones_digit = int(number[2])\n",
    "\n",
    "   words = '' if number[0] == '0' else ones[hundreds_digit]\n",
    "  \n",
    "   if words != '':\n",
    "       words += ' Hundred '\n",
    "\n",
    "   if tens_digit > 1:\n",
    "       words += tens[tens_digit - 2]\n",
    "       words += ' '\n",
    "       words += ones[ones_digit]\n",
    "   elif(tens_digit == 1):\n",
    "       words += twos[((tens_digit + ones_digit) % 10) - 1]\n",
    "   elif(tens_digit == 0):\n",
    "       words += ones[ones_digit]\n",
    "\n",
    "   if(words.endswith('Zero')):\n",
    "       words = words[:-len('Zero')]\n",
    "   else:\n",
    "       words += ' '\n",
    "\n",
    "   if len(words) != 0:\n",
    "       words += suffixes[index]\n",
    "      \n",
    "   return words\n",
    "\n",
    "\n",
    "def convert_to_words(number):\n",
    "   length = len(str(number))\n",
    "   if length > 12:\n",
    "       return 'This program supports a maximum of 12 digit numbers.'\n",
    "\n",
    "   count = length // 3 if length % 3 == 0 else length // 3 + 1\n",
    "   copy = count\n",
    "   words = []\n",
    "\n",
    "   for i in range(length - 1, -1, -3):\n",
    "       words.append(fetch_words(\n",
    "           str(number)[0 if i - 2 < 0 else i - 2 : i + 1], copy - count))\n",
    "      \n",
    "       count -= 1\n",
    "\n",
    "   final_words = ''\n",
    "   for s in reversed(words):\n",
    "       final_words += (s + ' ')\n",
    "\n",
    "   return final_words\n",
    "\n",
    "if __name__ == '__main__':\n",
    "   number = int(input('Enter any number: '))\n",
    "   print('%d in words is: %s' %(number, convert_to_words(number)))"
   ]
  },
  {
   "cell_type": "code",
   "execution_count": null,
   "id": "9f07164a",
   "metadata": {},
   "outputs": [],
   "source": []
  }
 ],
 "metadata": {
  "kernelspec": {
   "display_name": "Python 3 (ipykernel)",
   "language": "python",
   "name": "python3"
  },
  "language_info": {
   "codemirror_mode": {
    "name": "ipython",
    "version": 3
   },
   "file_extension": ".py",
   "mimetype": "text/x-python",
   "name": "python",
   "nbconvert_exporter": "python",
   "pygments_lexer": "ipython3",
   "version": "3.11.5"
  }
 },
 "nbformat": 4,
 "nbformat_minor": 5
}
